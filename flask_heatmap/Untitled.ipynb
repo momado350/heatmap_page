{
 "cells": [
  {
   "cell_type": "code",
   "execution_count": null,
   "metadata": {},
   "outputs": [],
   "source": [
    "import pandas as pd\n",
    "import sqlalchemy\n",
    "from sqlalchemy.ext.automap import automap_base\n",
    "from sqlalchemy.orm import Session\n",
    "from sqlalchemy import create_engine, func ,inspect,Table, Column, ForeignKey\n",
    "from flask import Flask, jsonify\n",
    "\n",
    "#=======================================================\n",
    "obesity_df = pd.read_csv('data_proj2.csv')\n",
    "obesity_df = obesity_df.dropna()\n",
    "obesity_df =pd.DataFrame(obesity_df)\n",
    "#=======================================================\n",
    "\n",
    "rds_connection_string = \"postgres:postgres@localhost:5432/Proj2_db\"\n",
    "engine = create_engine(f'postgresql://{rds_connection_string}')\n",
    "#https://github.com/cid-harvard/pandas-to-postgres/issues/8\n",
    "Base = automap_base()\n",
    "Base.prepare(engine, reflect=True)\n",
    "Base.classes.keys()\n",
    "obesity = Base.metadata.tables['obesity_study']\n",
    "cdc_data = Base.metadata.tables['cdc_data']\n",
    "cdc_data = Base.metadata.tables['census_data']\n",
    "session = Session(engine)\n",
    "\n",
    "obesity_df.to_sql(name='obesity_study',con=engine, if_exists='replace',index=False)\n",
    "\n",
    "#======================================================\n",
    "# Flask app\n",
    "#======================================================\n",
    "app = Flask(__name__)\n",
    "\n",
    "@app.route(\"/\")\n",
    "def Home():\n",
    "    print(\"Server received request for 'Home' page...\")\n",
    "    return(\"<div ><p><h1> Welcome to Obesity Study Api!</h1></p>\"\n",
    "  \"</ol><li><strong font color ='blue'>Obesity study for 500 cities in the US: </strong><font color='orange'> /api/v1.0/over45percent</font></li>\"\n",
    "  \"<li><strong>List of station:</strong><font color='orange'> /api/v1.0/bygender</font></li></ol></div>\")\n",
    "\n",
    "#===================================================\n",
    "@app.route(\"/api/v1.0/over45percent\")\n",
    "def main():\n",
    "    obesity_query =session.query(obesity)\n",
    "    obesity_query = pd.read_sql(obesity_query.statement, obesity_query.session.bind)\n",
    "    obesity_query = pd.DataFrame(obesity_query.loc[obesity_query[\"obesitypercentage\"] >=45, :]) \n",
    "    obesity_query = obesity_query.to_dict()\n",
    "    return jsonify(obesity_query)\n",
    "#++++++++++++++++++++++++++++++++++++++++++++++++++++++++++++++++++++++++++++++++++\n",
    "if __name__ == \"__main__\":\n",
    "    app.run(debug=True)\n"
   ]
  }
 ],
 "metadata": {
  "kernelspec": {
   "display_name": "Python [conda env:PythonData] *",
   "language": "python",
   "name": "conda-env-PythonData-py"
  },
  "language_info": {
   "codemirror_mode": {
    "name": "ipython",
    "version": 3
   },
   "file_extension": ".py",
   "mimetype": "text/x-python",
   "name": "python",
   "nbconvert_exporter": "python",
   "pygments_lexer": "ipython3",
   "version": "3.6.10"
  }
 },
 "nbformat": 4,
 "nbformat_minor": 4
}
